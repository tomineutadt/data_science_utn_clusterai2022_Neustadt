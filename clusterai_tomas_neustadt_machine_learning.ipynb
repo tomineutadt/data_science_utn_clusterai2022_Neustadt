{
 "cells": [
  {
   "cell_type": "markdown",
   "metadata": {
    "id": "SZjbCqxyzh6S"
   },
   "source": [
    "## **Trabajo final grupal 2022: Properati**\n",
    "____\n",
    "__Universidad Tecnológica Nacional, Buenos Aires__\\\n",
    "__Ingeniería Industrial__\\\n",
    "__Ciencia de Datos - Curso I5521__\n",
    "____"
   ]
  },
  {
   "cell_type": "markdown",
   "metadata": {
    "id": "eI4GOh3u0Rl-"
   },
   "source": [
    "- Participantes: Luciano Chodaszeski y Tomás Neustadt."
   ]
  },
  {
   "cell_type": "markdown",
   "metadata": {
    "id": "IKmfi4ZS1J7J"
   },
   "source": [
    "En este trabajo práctico se presentará un dataset con publicaciones de propiedad de Capital Federal. Cuenta con un total de 38.656 registros y 26 variables con distintas características de las propiedades. \n",
    "\n",
    "Realizaremos un Modelo de Machine Learning para predecir el precio de las propiedades\n",
    "\n",
    "Este trabajo estará dividido en 3 etapas:\n",
    "- La primera será desarrollar un EDA (un análiis exploratorio sobre el dataset)\n",
    "- La segunda será desarrollar un pipeline de Machine Learning para predecir la variable del precio de las propiedades de capital federal. Luego se aplicará un método de reducción de la dimensionalidad y se volverá a predecir el problema.\n",
    "- Se redactará un informe técnico con la descripción del trabajo."
   ]
  },
  {
   "cell_type": "markdown",
   "metadata": {
    "id": "0NTxoZ022Syj"
   },
   "source": [
    "**Variables:**\n",
    "- Unnamed: 0: Variable de contador de registros (no será utilizada en nuestro análisis)\n",
    "- Id: Numero identificatorio de la publicación\n",
    "- ad_type: Tipo de publicación\n",
    "- start_date: Fecha de inicio de la publicación\n",
    "- end_date: Fecha de fin de la publicación\n",
    "- created_on: Fecha creada de la publicación\n",
    "- lat: Latitud de la propiedad\n",
    "- lon: Longitud de la propiedad\n",
    "- l1: Ubicación 1 de la propiedad\n",
    "- l2: Ubicación 2 de la propiedad\n",
    "- l3: Ubicación 3 de la propiedad\n",
    "- l4: Ubicación 4 de la propiedad\n",
    "- l5: Ubicación 5 de la propiedad\n",
    "- l6: Ubicación 6 de la propiedad\n",
    "- rooms: Cantidad de ambientes de la propiedad\n",
    "- bedrooms: Cantidad de habitaciones de la propiedad\n",
    "- bathrooms: Cantidad de baños de la propiedad\n",
    "- surface_total: m2 total de la propiedad\n",
    "- surface_covered: m2 cubiertos de la propiedad\n",
    "- precio: Precio de la propiedad (variable a predecir)\n",
    "- currency: Moneda del precio\n",
    "- price_period: Periodo del precio\n",
    "- title: Título de la publicación\n",
    "- description: Descripción de la publicación\n",
    "- property_type: Tipo de la propiedad\n",
    "- operation_type: Tipo de operación"
   ]
  },
  {
   "cell_type": "code",
   "execution_count": 1,
   "metadata": {
    "id": "eXaFyHlOGxc6"
   },
   "outputs": [],
   "source": [
    "## Importo librerías de maniupulación de datos\n",
    "import pandas as pd\n",
    "import numpy as np\n",
    "import seaborn as sns\n",
    "import matplotlib.pyplot as plt"
   ]
  },
  {
   "cell_type": "code",
   "execution_count": 2,
   "metadata": {
    "id": "tycUYN72HXmY"
   },
   "outputs": [],
   "source": [
    "## Importo librerías de Aprendizaje automático\n",
    "from sklearn import preprocessing\n",
    "from sklearn import linear_model\n",
    "from sklearn.model_selection import train_test_split, cross_val_score\n",
    "from sklearn.metrics import r2_score, mean_squared_error\n",
    "from sklearn.utils import shuffle\n",
    "from sklearn.preprocessing import StandardScaler\n",
    "from sklearn import preprocessing\n",
    "from sklearn.preprocessing import LabelEncoder\n",
    "from sklearn.linear_model import LinearRegression\n",
    "from sklearn.svm import SVR, LinearSVR\n",
    "from sklearn.metrics import mean_squared_error, make_scorer\n",
    "from sklearn.model_selection import GridSearchCV\n",
    "from sklearn.neighbors import KNeighborsRegressor"
   ]
  },
  {
   "cell_type": "markdown",
   "metadata": {},
   "source": [
    "# **Pre Procesamiento**"
   ]
  },
  {
   "cell_type": "markdown",
   "metadata": {
    "id": "yMOV6NJD9EhA"
   },
   "source": [
    "Lo primero que haremos será importar el data set bajo el nombre \"properati\" y corroborar que se haya cargado correctamente"
   ]
  },
  {
   "cell_type": "code",
   "execution_count": 3,
   "metadata": {
    "colab": {
     "base_uri": "https://localhost:8080/"
    },
    "id": "hgogezR4HYyI",
    "outputId": "9f0ad9c5-018a-41b0-9e2e-1a30a588894f"
   },
   "outputs": [
    {
     "data": {
      "text/plain": [
       "'/Users/tneustadt/Documents/Ciencia-de-Datos/tp-final'"
      ]
     },
     "execution_count": 3,
     "metadata": {},
     "output_type": "execute_result"
    }
   ],
   "source": [
    "pwd"
   ]
  },
  {
   "cell_type": "code",
   "execution_count": 4,
   "metadata": {},
   "outputs": [
    {
     "name": "stdout",
     "output_type": "stream",
     "text": [
      "Diccionario_Properati.xlsx\r\n",
      "clusterai_tomas_neustadt.ipynb\r\n",
      "clusterai_tomas_neustadt_eda.ipynb\r\n",
      "clusterai_tomas_neustadt_machine_learning.ipynb\r\n",
      "properati_capital.csv\r\n"
     ]
    }
   ],
   "source": [
    "ls"
   ]
  },
  {
   "cell_type": "code",
   "execution_count": 5,
   "metadata": {
    "id": "V__Qiuw-HY8T"
   },
   "outputs": [],
   "source": [
    "properati = pd.read_csv('properati_capital.csv', delimiter=',', encoding='latin-1')\n"
   ]
  },
  {
   "cell_type": "code",
   "execution_count": 6,
   "metadata": {
    "colab": {
     "base_uri": "https://localhost:8080/",
     "height": 664
    },
    "id": "pB5ntVfJHZIn",
    "outputId": "170e79f2-d98f-46fb-87b2-338bb8e948ef"
   },
   "outputs": [
    {
     "data": {
      "text/html": [
       "<div>\n",
       "<style scoped>\n",
       "    .dataframe tbody tr th:only-of-type {\n",
       "        vertical-align: middle;\n",
       "    }\n",
       "\n",
       "    .dataframe tbody tr th {\n",
       "        vertical-align: top;\n",
       "    }\n",
       "\n",
       "    .dataframe thead th {\n",
       "        text-align: right;\n",
       "    }\n",
       "</style>\n",
       "<table border=\"1\" class=\"dataframe\">\n",
       "  <thead>\n",
       "    <tr style=\"text-align: right;\">\n",
       "      <th></th>\n",
       "      <th>Unnamed: 0</th>\n",
       "      <th>id</th>\n",
       "      <th>ad_type</th>\n",
       "      <th>start_date</th>\n",
       "      <th>end_date</th>\n",
       "      <th>created_on</th>\n",
       "      <th>lat</th>\n",
       "      <th>lon</th>\n",
       "      <th>l1</th>\n",
       "      <th>l2</th>\n",
       "      <th>...</th>\n",
       "      <th>bathrooms</th>\n",
       "      <th>surface_total</th>\n",
       "      <th>surface_covered</th>\n",
       "      <th>price</th>\n",
       "      <th>currency</th>\n",
       "      <th>price_period</th>\n",
       "      <th>title</th>\n",
       "      <th>description</th>\n",
       "      <th>property_type</th>\n",
       "      <th>operation_type</th>\n",
       "    </tr>\n",
       "  </thead>\n",
       "  <tbody>\n",
       "    <tr>\n",
       "      <th>0</th>\n",
       "      <td>63934</td>\n",
       "      <td>MlnOILxnUwm3KXFnNyOJig==</td>\n",
       "      <td>Propiedad</td>\n",
       "      <td>2020-07-06</td>\n",
       "      <td>2021-04-07</td>\n",
       "      <td>2020-07-06</td>\n",
       "      <td>-34.618041</td>\n",
       "      <td>-58.475124</td>\n",
       "      <td>Argentina</td>\n",
       "      <td>Capital Federal</td>\n",
       "      <td>...</td>\n",
       "      <td>1.0</td>\n",
       "      <td>NaN</td>\n",
       "      <td>NaN</td>\n",
       "      <td>89000.0</td>\n",
       "      <td>USD</td>\n",
       "      <td>NaN</td>\n",
       "      <td>Galicia 2800 Depto 2 Ambientes Con BalcÃ³n Vil...</td>\n",
       "      <td>XINTEL(JUM-JUM-313)  \\n\\nExcelente departament...</td>\n",
       "      <td>Departamento</td>\n",
       "      <td>Venta</td>\n",
       "    </tr>\n",
       "    <tr>\n",
       "      <th>1</th>\n",
       "      <td>660204</td>\n",
       "      <td>FiY707h094LvsqOGHohO9Q==</td>\n",
       "      <td>Propiedad</td>\n",
       "      <td>2020-07-17</td>\n",
       "      <td>9999-12-31</td>\n",
       "      <td>2020-07-17</td>\n",
       "      <td>-34.620686</td>\n",
       "      <td>-58.453972</td>\n",
       "      <td>Argentina</td>\n",
       "      <td>Capital Federal</td>\n",
       "      <td>...</td>\n",
       "      <td>2.0</td>\n",
       "      <td>NaN</td>\n",
       "      <td>NaN</td>\n",
       "      <td>190000.0</td>\n",
       "      <td>USD</td>\n",
       "      <td>NaN</td>\n",
       "      <td>DEPARTAMENTO A ESTRENAR AL FRENTE CON COCHERA</td>\n",
       "      <td>EXCELENTE DPTO A ESTRENAR AL FRENTE CON COCHER...</td>\n",
       "      <td>Departamento</td>\n",
       "      <td>Venta</td>\n",
       "    </tr>\n",
       "    <tr>\n",
       "      <th>2</th>\n",
       "      <td>961496</td>\n",
       "      <td>VKAgMtgXuRfeD2XHnLPWNQ==</td>\n",
       "      <td>Propiedad</td>\n",
       "      <td>2020-06-19</td>\n",
       "      <td>2020-12-03</td>\n",
       "      <td>2020-06-19</td>\n",
       "      <td>-34.590569</td>\n",
       "      <td>-58.425215</td>\n",
       "      <td>Argentina</td>\n",
       "      <td>Capital Federal</td>\n",
       "      <td>...</td>\n",
       "      <td>2.0</td>\n",
       "      <td>98.0</td>\n",
       "      <td>68.0</td>\n",
       "      <td>360000.0</td>\n",
       "      <td>USD</td>\n",
       "      <td>NaN</td>\n",
       "      <td>Excelente departamento 4 ambientes con terraza...</td>\n",
       "      <td>Patio El Salvador . inicio de obra nmarzo 2019...</td>\n",
       "      <td>Departamento</td>\n",
       "      <td>Venta</td>\n",
       "    </tr>\n",
       "    <tr>\n",
       "      <th>3</th>\n",
       "      <td>292569</td>\n",
       "      <td>H56oekWpzEOKT5aXM43WLA==</td>\n",
       "      <td>Propiedad</td>\n",
       "      <td>2021-02-24</td>\n",
       "      <td>2021-03-01</td>\n",
       "      <td>2021-02-24</td>\n",
       "      <td>-34.577440</td>\n",
       "      <td>-58.485041</td>\n",
       "      <td>Argentina</td>\n",
       "      <td>Capital Federal</td>\n",
       "      <td>...</td>\n",
       "      <td>1.0</td>\n",
       "      <td>118.0</td>\n",
       "      <td>96.0</td>\n",
       "      <td>285000.0</td>\n",
       "      <td>USD</td>\n",
       "      <td>NaN</td>\n",
       "      <td>Venta depto 4 ambientes/terraza en V. Urquiza</td>\n",
       "      <td>Corredor Responsable: MARIANO AUFSEHER - CPI 4...</td>\n",
       "      <td>Departamento</td>\n",
       "      <td>Venta</td>\n",
       "    </tr>\n",
       "    <tr>\n",
       "      <th>4</th>\n",
       "      <td>278737</td>\n",
       "      <td>FPPomZ4bizdYOzH9KlsLDg==</td>\n",
       "      <td>Propiedad</td>\n",
       "      <td>2020-11-17</td>\n",
       "      <td>2021-04-13</td>\n",
       "      <td>2020-11-17</td>\n",
       "      <td>-34.615851</td>\n",
       "      <td>-58.439566</td>\n",
       "      <td>Argentina</td>\n",
       "      <td>Capital Federal</td>\n",
       "      <td>...</td>\n",
       "      <td>1.0</td>\n",
       "      <td>61.0</td>\n",
       "      <td>52.0</td>\n",
       "      <td>145000.0</td>\n",
       "      <td>USD</td>\n",
       "      <td>NaN</td>\n",
       "      <td>Departamento de 2 ambientes c terraza a estrenar</td>\n",
       "      <td>Corredor Responsable: MARCELO GRUNBAUM - CMCPS...</td>\n",
       "      <td>Departamento</td>\n",
       "      <td>Venta</td>\n",
       "    </tr>\n",
       "  </tbody>\n",
       "</table>\n",
       "<p>5 rows × 26 columns</p>\n",
       "</div>"
      ],
      "text/plain": [
       "   Unnamed: 0                        id    ad_type  start_date    end_date  \\\n",
       "0       63934  MlnOILxnUwm3KXFnNyOJig==  Propiedad  2020-07-06  2021-04-07   \n",
       "1      660204  FiY707h094LvsqOGHohO9Q==  Propiedad  2020-07-17  9999-12-31   \n",
       "2      961496  VKAgMtgXuRfeD2XHnLPWNQ==  Propiedad  2020-06-19  2020-12-03   \n",
       "3      292569  H56oekWpzEOKT5aXM43WLA==  Propiedad  2021-02-24  2021-03-01   \n",
       "4      278737  FPPomZ4bizdYOzH9KlsLDg==  Propiedad  2020-11-17  2021-04-13   \n",
       "\n",
       "   created_on        lat        lon         l1               l2  ...  \\\n",
       "0  2020-07-06 -34.618041 -58.475124  Argentina  Capital Federal  ...   \n",
       "1  2020-07-17 -34.620686 -58.453972  Argentina  Capital Federal  ...   \n",
       "2  2020-06-19 -34.590569 -58.425215  Argentina  Capital Federal  ...   \n",
       "3  2021-02-24 -34.577440 -58.485041  Argentina  Capital Federal  ...   \n",
       "4  2020-11-17 -34.615851 -58.439566  Argentina  Capital Federal  ...   \n",
       "\n",
       "  bathrooms surface_total  surface_covered     price  currency  price_period  \\\n",
       "0       1.0           NaN              NaN   89000.0       USD           NaN   \n",
       "1       2.0           NaN              NaN  190000.0       USD           NaN   \n",
       "2       2.0          98.0             68.0  360000.0       USD           NaN   \n",
       "3       1.0         118.0             96.0  285000.0       USD           NaN   \n",
       "4       1.0          61.0             52.0  145000.0       USD           NaN   \n",
       "\n",
       "                                               title  \\\n",
       "0  Galicia 2800 Depto 2 Ambientes Con BalcÃ³n Vil...   \n",
       "1      DEPARTAMENTO A ESTRENAR AL FRENTE CON COCHERA   \n",
       "2  Excelente departamento 4 ambientes con terraza...   \n",
       "3      Venta depto 4 ambientes/terraza en V. Urquiza   \n",
       "4   Departamento de 2 ambientes c terraza a estrenar   \n",
       "\n",
       "                                         description  property_type  \\\n",
       "0  XINTEL(JUM-JUM-313)  \\n\\nExcelente departament...   Departamento   \n",
       "1  EXCELENTE DPTO A ESTRENAR AL FRENTE CON COCHER...   Departamento   \n",
       "2  Patio El Salvador . inicio de obra nmarzo 2019...   Departamento   \n",
       "3  Corredor Responsable: MARIANO AUFSEHER - CPI 4...   Departamento   \n",
       "4  Corredor Responsable: MARCELO GRUNBAUM - CMCPS...   Departamento   \n",
       "\n",
       "   operation_type  \n",
       "0           Venta  \n",
       "1           Venta  \n",
       "2           Venta  \n",
       "3           Venta  \n",
       "4           Venta  \n",
       "\n",
       "[5 rows x 26 columns]"
      ]
     },
     "execution_count": 6,
     "metadata": {},
     "output_type": "execute_result"
    }
   ],
   "source": [
    "properati.head()"
   ]
  },
  {
   "cell_type": "markdown",
   "metadata": {
    "id": "MfXw8FGt9e4A"
   },
   "source": [
    "Ahora lo que haremos será imprimir las dimensiones del dataset y eliminar la variable \"Unnamed: 0\". Luego volveremos a guardar el dataset sin esta variable bajo el nombre properati."
   ]
  },
  {
   "cell_type": "code",
   "execution_count": 7,
   "metadata": {
    "colab": {
     "base_uri": "https://localhost:8080/"
    },
    "id": "DCwhUcGGHZNJ",
    "outputId": "61ff7d7a-a58f-4146-f09b-9f9de4814370"
   },
   "outputs": [
    {
     "data": {
      "text/plain": [
       "(38656, 26)"
      ]
     },
     "execution_count": 7,
     "metadata": {},
     "output_type": "execute_result"
    }
   ],
   "source": [
    "properati.shape"
   ]
  },
  {
   "cell_type": "code",
   "execution_count": 8,
   "metadata": {
    "id": "aRHkCCQy90hk"
   },
   "outputs": [],
   "source": [
    "properati = properati.iloc [:, 1:26]"
   ]
  },
  {
   "cell_type": "code",
   "execution_count": 9,
   "metadata": {
    "colab": {
     "base_uri": "https://localhost:8080/",
     "height": 647
    },
    "id": "ZyeAUCuU-A8B",
    "outputId": "263dd274-13a3-450f-9bcd-219f52c5b3ee"
   },
   "outputs": [
    {
     "data": {
      "text/html": [
       "<div>\n",
       "<style scoped>\n",
       "    .dataframe tbody tr th:only-of-type {\n",
       "        vertical-align: middle;\n",
       "    }\n",
       "\n",
       "    .dataframe tbody tr th {\n",
       "        vertical-align: top;\n",
       "    }\n",
       "\n",
       "    .dataframe thead th {\n",
       "        text-align: right;\n",
       "    }\n",
       "</style>\n",
       "<table border=\"1\" class=\"dataframe\">\n",
       "  <thead>\n",
       "    <tr style=\"text-align: right;\">\n",
       "      <th></th>\n",
       "      <th>id</th>\n",
       "      <th>ad_type</th>\n",
       "      <th>start_date</th>\n",
       "      <th>end_date</th>\n",
       "      <th>created_on</th>\n",
       "      <th>lat</th>\n",
       "      <th>lon</th>\n",
       "      <th>l1</th>\n",
       "      <th>l2</th>\n",
       "      <th>l3</th>\n",
       "      <th>...</th>\n",
       "      <th>bathrooms</th>\n",
       "      <th>surface_total</th>\n",
       "      <th>surface_covered</th>\n",
       "      <th>price</th>\n",
       "      <th>currency</th>\n",
       "      <th>price_period</th>\n",
       "      <th>title</th>\n",
       "      <th>description</th>\n",
       "      <th>property_type</th>\n",
       "      <th>operation_type</th>\n",
       "    </tr>\n",
       "  </thead>\n",
       "  <tbody>\n",
       "    <tr>\n",
       "      <th>0</th>\n",
       "      <td>MlnOILxnUwm3KXFnNyOJig==</td>\n",
       "      <td>Propiedad</td>\n",
       "      <td>2020-07-06</td>\n",
       "      <td>2021-04-07</td>\n",
       "      <td>2020-07-06</td>\n",
       "      <td>-34.618041</td>\n",
       "      <td>-58.475124</td>\n",
       "      <td>Argentina</td>\n",
       "      <td>Capital Federal</td>\n",
       "      <td>Villa del Parque</td>\n",
       "      <td>...</td>\n",
       "      <td>1.0</td>\n",
       "      <td>NaN</td>\n",
       "      <td>NaN</td>\n",
       "      <td>89000.0</td>\n",
       "      <td>USD</td>\n",
       "      <td>NaN</td>\n",
       "      <td>Galicia 2800 Depto 2 Ambientes Con BalcÃ³n Vil...</td>\n",
       "      <td>XINTEL(JUM-JUM-313)  \\n\\nExcelente departament...</td>\n",
       "      <td>Departamento</td>\n",
       "      <td>Venta</td>\n",
       "    </tr>\n",
       "    <tr>\n",
       "      <th>1</th>\n",
       "      <td>FiY707h094LvsqOGHohO9Q==</td>\n",
       "      <td>Propiedad</td>\n",
       "      <td>2020-07-17</td>\n",
       "      <td>9999-12-31</td>\n",
       "      <td>2020-07-17</td>\n",
       "      <td>-34.620686</td>\n",
       "      <td>-58.453972</td>\n",
       "      <td>Argentina</td>\n",
       "      <td>Capital Federal</td>\n",
       "      <td>Caballito</td>\n",
       "      <td>...</td>\n",
       "      <td>2.0</td>\n",
       "      <td>NaN</td>\n",
       "      <td>NaN</td>\n",
       "      <td>190000.0</td>\n",
       "      <td>USD</td>\n",
       "      <td>NaN</td>\n",
       "      <td>DEPARTAMENTO A ESTRENAR AL FRENTE CON COCHERA</td>\n",
       "      <td>EXCELENTE DPTO A ESTRENAR AL FRENTE CON COCHER...</td>\n",
       "      <td>Departamento</td>\n",
       "      <td>Venta</td>\n",
       "    </tr>\n",
       "    <tr>\n",
       "      <th>2</th>\n",
       "      <td>VKAgMtgXuRfeD2XHnLPWNQ==</td>\n",
       "      <td>Propiedad</td>\n",
       "      <td>2020-06-19</td>\n",
       "      <td>2020-12-03</td>\n",
       "      <td>2020-06-19</td>\n",
       "      <td>-34.590569</td>\n",
       "      <td>-58.425215</td>\n",
       "      <td>Argentina</td>\n",
       "      <td>Capital Federal</td>\n",
       "      <td>Palermo</td>\n",
       "      <td>...</td>\n",
       "      <td>2.0</td>\n",
       "      <td>98.0</td>\n",
       "      <td>68.0</td>\n",
       "      <td>360000.0</td>\n",
       "      <td>USD</td>\n",
       "      <td>NaN</td>\n",
       "      <td>Excelente departamento 4 ambientes con terraza...</td>\n",
       "      <td>Patio El Salvador . inicio de obra nmarzo 2019...</td>\n",
       "      <td>Departamento</td>\n",
       "      <td>Venta</td>\n",
       "    </tr>\n",
       "    <tr>\n",
       "      <th>3</th>\n",
       "      <td>H56oekWpzEOKT5aXM43WLA==</td>\n",
       "      <td>Propiedad</td>\n",
       "      <td>2021-02-24</td>\n",
       "      <td>2021-03-01</td>\n",
       "      <td>2021-02-24</td>\n",
       "      <td>-34.577440</td>\n",
       "      <td>-58.485041</td>\n",
       "      <td>Argentina</td>\n",
       "      <td>Capital Federal</td>\n",
       "      <td>Villa Urquiza</td>\n",
       "      <td>...</td>\n",
       "      <td>1.0</td>\n",
       "      <td>118.0</td>\n",
       "      <td>96.0</td>\n",
       "      <td>285000.0</td>\n",
       "      <td>USD</td>\n",
       "      <td>NaN</td>\n",
       "      <td>Venta depto 4 ambientes/terraza en V. Urquiza</td>\n",
       "      <td>Corredor Responsable: MARIANO AUFSEHER - CPI 4...</td>\n",
       "      <td>Departamento</td>\n",
       "      <td>Venta</td>\n",
       "    </tr>\n",
       "    <tr>\n",
       "      <th>4</th>\n",
       "      <td>FPPomZ4bizdYOzH9KlsLDg==</td>\n",
       "      <td>Propiedad</td>\n",
       "      <td>2020-11-17</td>\n",
       "      <td>2021-04-13</td>\n",
       "      <td>2020-11-17</td>\n",
       "      <td>-34.615851</td>\n",
       "      <td>-58.439566</td>\n",
       "      <td>Argentina</td>\n",
       "      <td>Capital Federal</td>\n",
       "      <td>Caballito</td>\n",
       "      <td>...</td>\n",
       "      <td>1.0</td>\n",
       "      <td>61.0</td>\n",
       "      <td>52.0</td>\n",
       "      <td>145000.0</td>\n",
       "      <td>USD</td>\n",
       "      <td>NaN</td>\n",
       "      <td>Departamento de 2 ambientes c terraza a estrenar</td>\n",
       "      <td>Corredor Responsable: MARCELO GRUNBAUM - CMCPS...</td>\n",
       "      <td>Departamento</td>\n",
       "      <td>Venta</td>\n",
       "    </tr>\n",
       "  </tbody>\n",
       "</table>\n",
       "<p>5 rows × 25 columns</p>\n",
       "</div>"
      ],
      "text/plain": [
       "                         id    ad_type  start_date    end_date  created_on  \\\n",
       "0  MlnOILxnUwm3KXFnNyOJig==  Propiedad  2020-07-06  2021-04-07  2020-07-06   \n",
       "1  FiY707h094LvsqOGHohO9Q==  Propiedad  2020-07-17  9999-12-31  2020-07-17   \n",
       "2  VKAgMtgXuRfeD2XHnLPWNQ==  Propiedad  2020-06-19  2020-12-03  2020-06-19   \n",
       "3  H56oekWpzEOKT5aXM43WLA==  Propiedad  2021-02-24  2021-03-01  2021-02-24   \n",
       "4  FPPomZ4bizdYOzH9KlsLDg==  Propiedad  2020-11-17  2021-04-13  2020-11-17   \n",
       "\n",
       "         lat        lon         l1               l2                l3  ...  \\\n",
       "0 -34.618041 -58.475124  Argentina  Capital Federal  Villa del Parque  ...   \n",
       "1 -34.620686 -58.453972  Argentina  Capital Federal         Caballito  ...   \n",
       "2 -34.590569 -58.425215  Argentina  Capital Federal           Palermo  ...   \n",
       "3 -34.577440 -58.485041  Argentina  Capital Federal     Villa Urquiza  ...   \n",
       "4 -34.615851 -58.439566  Argentina  Capital Federal         Caballito  ...   \n",
       "\n",
       "  bathrooms  surface_total  surface_covered     price  currency  price_period  \\\n",
       "0       1.0            NaN              NaN   89000.0       USD           NaN   \n",
       "1       2.0            NaN              NaN  190000.0       USD           NaN   \n",
       "2       2.0           98.0             68.0  360000.0       USD           NaN   \n",
       "3       1.0          118.0             96.0  285000.0       USD           NaN   \n",
       "4       1.0           61.0             52.0  145000.0       USD           NaN   \n",
       "\n",
       "                                               title  \\\n",
       "0  Galicia 2800 Depto 2 Ambientes Con BalcÃ³n Vil...   \n",
       "1      DEPARTAMENTO A ESTRENAR AL FRENTE CON COCHERA   \n",
       "2  Excelente departamento 4 ambientes con terraza...   \n",
       "3      Venta depto 4 ambientes/terraza en V. Urquiza   \n",
       "4   Departamento de 2 ambientes c terraza a estrenar   \n",
       "\n",
       "                                         description  property_type  \\\n",
       "0  XINTEL(JUM-JUM-313)  \\n\\nExcelente departament...   Departamento   \n",
       "1  EXCELENTE DPTO A ESTRENAR AL FRENTE CON COCHER...   Departamento   \n",
       "2  Patio El Salvador . inicio de obra nmarzo 2019...   Departamento   \n",
       "3  Corredor Responsable: MARIANO AUFSEHER - CPI 4...   Departamento   \n",
       "4  Corredor Responsable: MARCELO GRUNBAUM - CMCPS...   Departamento   \n",
       "\n",
       "  operation_type  \n",
       "0          Venta  \n",
       "1          Venta  \n",
       "2          Venta  \n",
       "3          Venta  \n",
       "4          Venta  \n",
       "\n",
       "[5 rows x 25 columns]"
      ]
     },
     "execution_count": 9,
     "metadata": {},
     "output_type": "execute_result"
    }
   ],
   "source": [
    "properati.head()"
   ]
  },
  {
   "cell_type": "markdown",
   "metadata": {
    "id": "OuP_S7Hk-KJq"
   },
   "source": [
    "Corroboramos que el dataset no cuenta con valores nulos, en caso de que una columna tenga un alto porcentaje de valores nulos la eliminaremos. En cambio, para aquellas columnas que cuenten con bajo valor de nulos, eliminaremos las columnas que tengan nulos."
   ]
  },
  {
   "cell_type": "code",
   "execution_count": 10,
   "metadata": {
    "colab": {
     "base_uri": "https://localhost:8080/"
    },
    "id": "DhS3hf0bHZU3",
    "outputId": "01f6e9fb-269b-482a-b0b4-88ca77d816e8"
   },
   "outputs": [
    {
     "data": {
      "text/plain": [
       "l6                 38656\n",
       "price_period       38656\n",
       "l5                 38656\n",
       "l4                 37511\n",
       "surface_total      16011\n",
       "surface_covered    15978\n",
       "bedrooms            7535\n",
       "rooms               2561\n",
       "bathrooms           2336\n",
       "lat                 2071\n",
       "lon                 2071\n",
       "l3                   137\n",
       "title                  0\n",
       "description            0\n",
       "property_type          0\n",
       "price                  0\n",
       "currency               0\n",
       "id                     0\n",
       "ad_type                0\n",
       "l2                     0\n",
       "l1                     0\n",
       "created_on             0\n",
       "end_date               0\n",
       "start_date             0\n",
       "operation_type         0\n",
       "dtype: int64"
      ]
     },
     "execution_count": 10,
     "metadata": {},
     "output_type": "execute_result"
    }
   ],
   "source": [
    "properati.isnull().sum().sort_values(ascending=False)"
   ]
  },
  {
   "cell_type": "code",
   "execution_count": 11,
   "metadata": {
    "id": "YDuyGHh2HZgv"
   },
   "outputs": [],
   "source": [
    "#Eliminaremos estas 4 columnas ya que cuentan con valores nulos en un gran porcentaje (casi el 100%) del dataset\n",
    "properati.drop('l6', inplace=True, axis=1)\n",
    "properati.drop('price_period', inplace=True, axis=1)\n",
    "properati.drop('l4', inplace=True, axis=1)\n",
    "properati.drop('l5', inplace=True, axis=1)"
   ]
  },
  {
   "cell_type": "code",
   "execution_count": 12,
   "metadata": {},
   "outputs": [
    {
     "data": {
      "text/plain": [
       "(38656, 21)"
      ]
     },
     "execution_count": 12,
     "metadata": {},
     "output_type": "execute_result"
    }
   ],
   "source": [
    "properati.shape"
   ]
  },
  {
   "cell_type": "code",
   "execution_count": 13,
   "metadata": {
    "id": "VGzIrKjxHZoI"
   },
   "outputs": [],
   "source": [
    "#eliminamos los renglones con valores nulos del dataset\n",
    "properati.dropna(how ='any', inplace = True, subset=['l3','lon','lat','bathrooms','rooms'])"
   ]
  },
  {
   "cell_type": "markdown",
   "metadata": {},
   "source": [
    "Ahora verificaremos los distintos valores posibles que tiene cada columna, eliminando las columnas con valores unicos ya que no son representativas para el modelo."
   ]
  },
  {
   "cell_type": "code",
   "execution_count": 14,
   "metadata": {},
   "outputs": [
    {
     "data": {
      "text/plain": [
       "id                 25355\n",
       "ad_type                1\n",
       "start_date           361\n",
       "end_date             434\n",
       "created_on           361\n",
       "lat                16022\n",
       "lon                16066\n",
       "l1                     1\n",
       "l2                     1\n",
       "l3                    56\n",
       "rooms                 18\n",
       "bedrooms              17\n",
       "bathrooms              9\n",
       "surface_total        449\n",
       "surface_covered      370\n",
       "price               3183\n",
       "currency               1\n",
       "title              18592\n",
       "description        22706\n",
       "property_type          2\n",
       "operation_type         1\n",
       "dtype: int64"
      ]
     },
     "execution_count": 14,
     "metadata": {},
     "output_type": "execute_result"
    }
   ],
   "source": [
    "properati.nunique()"
   ]
  },
  {
   "cell_type": "code",
   "execution_count": 15,
   "metadata": {},
   "outputs": [],
   "source": [
    "properati.drop('ad_type', inplace=True, axis=1)\n",
    "properati.drop('l1', inplace=True, axis=1)\n",
    "properati.drop('l2', inplace=True, axis=1)\n",
    "properati.drop('currency', inplace=True, axis=1)\n",
    "properati.drop('operation_type', inplace=True, axis=1)"
   ]
  },
  {
   "cell_type": "code",
   "execution_count": 16,
   "metadata": {
    "colab": {
     "base_uri": "https://localhost:8080/"
    },
    "id": "MYHhMwMSQDM4",
    "outputId": "4d989c8e-3307-478d-a468-d3ba98b05632"
   },
   "outputs": [
    {
     "data": {
      "text/plain": [
       "(32278, 16)"
      ]
     },
     "execution_count": 16,
     "metadata": {},
     "output_type": "execute_result"
    }
   ],
   "source": [
    "properati.shape #imprimimos las dimensiones del data set"
   ]
  },
  {
   "cell_type": "markdown",
   "metadata": {
    "id": "bo-CbuYjFoXB"
   },
   "source": [
    "Ahora verificaremos los distintos valores posibles que tiene cada columna, eliminando las columnas con valores unicos ya que no son representativas para el modelo."
   ]
  },
  {
   "cell_type": "code",
   "execution_count": 17,
   "metadata": {
    "colab": {
     "base_uri": "https://localhost:8080/"
    },
    "id": "RW5oe313Qd-Q",
    "outputId": "ea143080-6d26-48a6-cd55-e036d5c253b0"
   },
   "outputs": [
    {
     "data": {
      "text/plain": [
       "id                 25355\n",
       "start_date           361\n",
       "end_date             434\n",
       "created_on           361\n",
       "lat                16022\n",
       "lon                16066\n",
       "l3                    56\n",
       "rooms                 18\n",
       "bedrooms              17\n",
       "bathrooms              9\n",
       "surface_total        449\n",
       "surface_covered      370\n",
       "price               3183\n",
       "title              18592\n",
       "description        22706\n",
       "property_type          2\n",
       "dtype: int64"
      ]
     },
     "execution_count": 17,
     "metadata": {},
     "output_type": "execute_result"
    }
   ],
   "source": [
    "properati.nunique()"
   ]
  },
  {
   "cell_type": "markdown",
   "metadata": {
    "id": "nklN6W_KGCUd"
   },
   "source": [
    "Como \"ID\" es una variable única para cada propiedad, y podemos ver como hay 25355 valores de ID con un dataset de 32278 renglones, sacamos como conclusión que existen valores duplicados por lo que los eliminaremos del dataset."
   ]
  },
  {
   "cell_type": "code",
   "execution_count": 18,
   "metadata": {
    "colab": {
     "base_uri": "https://localhost:8080/",
     "height": 988
    },
    "id": "4ysMGjhUR5K5",
    "outputId": "ac8ff8b0-0521-4690-fe6b-450c764c8960",
    "scrolled": true
   },
   "outputs": [],
   "source": [
    "properati.drop_duplicates(subset=['id'], keep='first', inplace=True, ignore_index=False)"
   ]
  },
  {
   "cell_type": "markdown",
   "metadata": {
    "id": "XVwu6NOaGitT"
   },
   "source": [
    "Muestro los tipos de datos que contiene cada columna. Las que sean objeto y no representativas de mi modelo las elimino. "
   ]
  },
  {
   "cell_type": "code",
   "execution_count": 19,
   "metadata": {},
   "outputs": [
    {
     "data": {
      "text/plain": [
       "(25355, 16)"
      ]
     },
     "execution_count": 19,
     "metadata": {},
     "output_type": "execute_result"
    }
   ],
   "source": [
    "properati.shape"
   ]
  },
  {
   "cell_type": "code",
   "execution_count": 20,
   "metadata": {
    "colab": {
     "base_uri": "https://localhost:8080/"
    },
    "id": "HFVA7NqsR1Bc",
    "outputId": "19303ca9-9570-4a44-d208-a67cafb5c30b"
   },
   "outputs": [
    {
     "data": {
      "text/plain": [
       "id                  object\n",
       "start_date          object\n",
       "end_date            object\n",
       "created_on          object\n",
       "lat                float64\n",
       "lon                float64\n",
       "l3                  object\n",
       "rooms              float64\n",
       "bedrooms           float64\n",
       "bathrooms          float64\n",
       "surface_total      float64\n",
       "surface_covered    float64\n",
       "price              float64\n",
       "title               object\n",
       "description         object\n",
       "property_type       object\n",
       "dtype: object"
      ]
     },
     "execution_count": 20,
     "metadata": {},
     "output_type": "execute_result"
    }
   ],
   "source": [
    "properati.dtypes"
   ]
  },
  {
   "cell_type": "code",
   "execution_count": 21,
   "metadata": {
    "id": "IJs_Ke9MTFej"
   },
   "outputs": [],
   "source": [
    "#eliminamos unnamed_0,id, start_date, end_Date, created_on, title, description\n",
    "properati.drop('id', inplace=True, axis=1) #ya que puedo utilizar como identificador el número de renglon\n",
    "properati.drop('start_date', inplace=True, axis=1) #ya que no me sirven las fechas de la publicación\n",
    "properati.drop('end_date', inplace=True, axis=1) #ya que no me sirven las fechas de la publicación\n",
    "properati.drop('created_on', inplace=True, axis=1) #ya que no me sirven las fechas de la publicación\n",
    "properati.drop('title', inplace=True, axis=1) #el titulo no es representativo\n",
    "properati.drop('description', inplace=True, axis=1) #la descripción no es representativa de la propiedad, ya que es un resumen de las características de la misma"
   ]
  },
  {
   "cell_type": "code",
   "execution_count": 22,
   "metadata": {},
   "outputs": [
    {
     "data": {
      "text/html": [
       "<div>\n",
       "<style scoped>\n",
       "    .dataframe tbody tr th:only-of-type {\n",
       "        vertical-align: middle;\n",
       "    }\n",
       "\n",
       "    .dataframe tbody tr th {\n",
       "        vertical-align: top;\n",
       "    }\n",
       "\n",
       "    .dataframe thead th {\n",
       "        text-align: right;\n",
       "    }\n",
       "</style>\n",
       "<table border=\"1\" class=\"dataframe\">\n",
       "  <thead>\n",
       "    <tr style=\"text-align: right;\">\n",
       "      <th></th>\n",
       "      <th>lat</th>\n",
       "      <th>lon</th>\n",
       "      <th>l3</th>\n",
       "      <th>rooms</th>\n",
       "      <th>bedrooms</th>\n",
       "      <th>bathrooms</th>\n",
       "      <th>surface_total</th>\n",
       "      <th>surface_covered</th>\n",
       "      <th>price</th>\n",
       "      <th>property_type</th>\n",
       "    </tr>\n",
       "  </thead>\n",
       "  <tbody>\n",
       "    <tr>\n",
       "      <th>0</th>\n",
       "      <td>-34.618041</td>\n",
       "      <td>-58.475124</td>\n",
       "      <td>Villa del Parque</td>\n",
       "      <td>2.0</td>\n",
       "      <td>1.0</td>\n",
       "      <td>1.0</td>\n",
       "      <td>NaN</td>\n",
       "      <td>NaN</td>\n",
       "      <td>89000.0</td>\n",
       "      <td>Departamento</td>\n",
       "    </tr>\n",
       "    <tr>\n",
       "      <th>1</th>\n",
       "      <td>-34.620686</td>\n",
       "      <td>-58.453972</td>\n",
       "      <td>Caballito</td>\n",
       "      <td>3.0</td>\n",
       "      <td>2.0</td>\n",
       "      <td>2.0</td>\n",
       "      <td>NaN</td>\n",
       "      <td>NaN</td>\n",
       "      <td>190000.0</td>\n",
       "      <td>Departamento</td>\n",
       "    </tr>\n",
       "    <tr>\n",
       "      <th>2</th>\n",
       "      <td>-34.590569</td>\n",
       "      <td>-58.425215</td>\n",
       "      <td>Palermo</td>\n",
       "      <td>3.0</td>\n",
       "      <td>2.0</td>\n",
       "      <td>2.0</td>\n",
       "      <td>98.0</td>\n",
       "      <td>68.0</td>\n",
       "      <td>360000.0</td>\n",
       "      <td>Departamento</td>\n",
       "    </tr>\n",
       "    <tr>\n",
       "      <th>3</th>\n",
       "      <td>-34.577440</td>\n",
       "      <td>-58.485041</td>\n",
       "      <td>Villa Urquiza</td>\n",
       "      <td>4.0</td>\n",
       "      <td>4.0</td>\n",
       "      <td>1.0</td>\n",
       "      <td>118.0</td>\n",
       "      <td>96.0</td>\n",
       "      <td>285000.0</td>\n",
       "      <td>Departamento</td>\n",
       "    </tr>\n",
       "    <tr>\n",
       "      <th>4</th>\n",
       "      <td>-34.615851</td>\n",
       "      <td>-58.439566</td>\n",
       "      <td>Caballito</td>\n",
       "      <td>2.0</td>\n",
       "      <td>11.0</td>\n",
       "      <td>1.0</td>\n",
       "      <td>61.0</td>\n",
       "      <td>52.0</td>\n",
       "      <td>145000.0</td>\n",
       "      <td>Departamento</td>\n",
       "    </tr>\n",
       "  </tbody>\n",
       "</table>\n",
       "</div>"
      ],
      "text/plain": [
       "         lat        lon                l3  rooms  bedrooms  bathrooms  \\\n",
       "0 -34.618041 -58.475124  Villa del Parque    2.0       1.0        1.0   \n",
       "1 -34.620686 -58.453972         Caballito    3.0       2.0        2.0   \n",
       "2 -34.590569 -58.425215           Palermo    3.0       2.0        2.0   \n",
       "3 -34.577440 -58.485041     Villa Urquiza    4.0       4.0        1.0   \n",
       "4 -34.615851 -58.439566         Caballito    2.0      11.0        1.0   \n",
       "\n",
       "   surface_total  surface_covered     price property_type  \n",
       "0            NaN              NaN   89000.0  Departamento  \n",
       "1            NaN              NaN  190000.0  Departamento  \n",
       "2           98.0             68.0  360000.0  Departamento  \n",
       "3          118.0             96.0  285000.0  Departamento  \n",
       "4           61.0             52.0  145000.0  Departamento  "
      ]
     },
     "execution_count": 22,
     "metadata": {},
     "output_type": "execute_result"
    }
   ],
   "source": [
    "properati.head()"
   ]
  },
  {
   "cell_type": "code",
   "execution_count": 23,
   "metadata": {},
   "outputs": [],
   "source": [
    "properati['surface_total'].fillna(properati['surface_total'].mean(), inplace = True)\n",
    "properati['surface_covered'].fillna(properati['surface_covered'].mean(), inplace = True)\n",
    "properati['bedrooms'].fillna(properati['bedrooms'].median(), inplace = True)"
   ]
  },
  {
   "cell_type": "code",
   "execution_count": 24,
   "metadata": {},
   "outputs": [
    {
     "data": {
      "text/plain": [
       "lat                0\n",
       "lon                0\n",
       "l3                 0\n",
       "rooms              0\n",
       "bedrooms           0\n",
       "bathrooms          0\n",
       "surface_total      0\n",
       "surface_covered    0\n",
       "price              0\n",
       "property_type      0\n",
       "dtype: int64"
      ]
     },
     "execution_count": 24,
     "metadata": {},
     "output_type": "execute_result"
    }
   ],
   "source": [
    "properati.isnull().sum().sort_values(ascending=False)"
   ]
  },
  {
   "cell_type": "code",
   "execution_count": 25,
   "metadata": {},
   "outputs": [
    {
     "data": {
      "text/plain": [
       "(25355, 10)"
      ]
     },
     "execution_count": 25,
     "metadata": {},
     "output_type": "execute_result"
    }
   ],
   "source": [
    "properati.shape"
   ]
  },
  {
   "cell_type": "code",
   "execution_count": 26,
   "metadata": {},
   "outputs": [
    {
     "name": "stdout",
     "output_type": "stream",
     "text": [
      "(22815, 10)\n"
     ]
    }
   ],
   "source": [
    "price_quantile90 = properati.price.quantile(0.90)\n",
    "properati = properati.loc[(properati.price < price_quantile90)]\n",
    "print(properati.shape)"
   ]
  },
  {
   "cell_type": "markdown",
   "metadata": {},
   "source": [
    "# **Machine Learning**"
   ]
  },
  {
   "cell_type": "markdown",
   "metadata": {
    "id": "jI_AUEwsHpnb"
   },
   "source": [
    "Genero las variables Dummies con las dos features que si son representativas y son de tipo objeto : l3 y property_type"
   ]
  },
  {
   "cell_type": "code",
   "execution_count": 27,
   "metadata": {
    "colab": {
     "base_uri": "https://localhost:8080/"
    },
    "id": "phC3PP-bVQx2",
    "outputId": "45bd80a7-27e6-4991-bc04-1f1b6b3379ae"
   },
   "outputs": [
    {
     "data": {
      "text/plain": [
       "(22815, 56)"
      ]
     },
     "execution_count": 27,
     "metadata": {},
     "output_type": "execute_result"
    }
   ],
   "source": [
    "l3_dummies = pd.get_dummies(properati['l3'])\n",
    "l3_dummies.shape"
   ]
  },
  {
   "cell_type": "code",
   "execution_count": 28,
   "metadata": {
    "colab": {
     "base_uri": "https://localhost:8080/"
    },
    "id": "foYqwwybVl4h",
    "outputId": "dd901c96-6349-4849-e828-5a6d14fa9eb0"
   },
   "outputs": [
    {
     "data": {
      "text/plain": [
       "(22815, 2)"
      ]
     },
     "execution_count": 28,
     "metadata": {},
     "output_type": "execute_result"
    }
   ],
   "source": [
    "ptype_dummies = pd.get_dummies(properati['property_type'])\n",
    "ptype_dummies.shape"
   ]
  },
  {
   "cell_type": "markdown",
   "metadata": {
    "id": "M2wLmI-IItyQ"
   },
   "source": [
    "Agrego las variables Dummies al dataset"
   ]
  },
  {
   "cell_type": "code",
   "execution_count": 29,
   "metadata": {
    "id": "n2FnaxJNV2D7"
   },
   "outputs": [],
   "source": [
    "properati = pd.concat([properati, l3_dummies, ptype_dummies],axis=1) "
   ]
  },
  {
   "cell_type": "code",
   "execution_count": 30,
   "metadata": {
    "id": "lfWTiJxjWDn7"
   },
   "outputs": [],
   "source": [
    "y = np.array(properati[[\"price\"]])\n",
    "x = properati.drop(['lat','lon','price','l3','property_type'], axis=1)"
   ]
  },
  {
   "cell_type": "code",
   "execution_count": 31,
   "metadata": {
    "colab": {
     "base_uri": "https://localhost:8080/"
    },
    "id": "5sTVJYcPWZFa",
    "outputId": "1d70a553-0e28-4be1-f36e-4a6b6a1b7ef6",
    "scrolled": true
   },
   "outputs": [
    {
     "data": {
      "text/plain": [
       "(22815, 63)"
      ]
     },
     "execution_count": 31,
     "metadata": {},
     "output_type": "execute_result"
    }
   ],
   "source": [
    "x.shape"
   ]
  },
  {
   "cell_type": "code",
   "execution_count": 32,
   "metadata": {
    "colab": {
     "base_uri": "https://localhost:8080/"
    },
    "id": "2WDolAjOW2Y6",
    "outputId": "12c4abb2-b87c-4a2f-bcb2-5060fc686c1e"
   },
   "outputs": [
    {
     "data": {
      "text/plain": [
       "(22815, 1)"
      ]
     },
     "execution_count": 32,
     "metadata": {},
     "output_type": "execute_result"
    }
   ],
   "source": [
    "y.shape"
   ]
  },
  {
   "cell_type": "markdown",
   "metadata": {
    "id": "5dD2JQJxJe6i"
   },
   "source": [
    "Divido el dataset entre Train y Test, tomando un test_size del 30%. "
   ]
  },
  {
   "cell_type": "code",
   "execution_count": 33,
   "metadata": {
    "id": "7Q6eILkBW-It"
   },
   "outputs": [],
   "source": [
    "xtrain, xtest, ytrain, ytest = train_test_split(x.values, y, test_size=0.3, random_state=4)"
   ]
  },
  {
   "cell_type": "code",
   "execution_count": 34,
   "metadata": {
    "colab": {
     "base_uri": "https://localhost:8080/",
     "height": 314
    },
    "id": "DNd-0l8yYs-c",
    "outputId": "8c8078bf-5f95-4806-ac3d-69ddd4e3eb71"
   },
   "outputs": [
    {
     "data": {
      "text/html": [
       "<div>\n",
       "<style scoped>\n",
       "    .dataframe tbody tr th:only-of-type {\n",
       "        vertical-align: middle;\n",
       "    }\n",
       "\n",
       "    .dataframe tbody tr th {\n",
       "        vertical-align: top;\n",
       "    }\n",
       "\n",
       "    .dataframe thead th {\n",
       "        text-align: right;\n",
       "    }\n",
       "</style>\n",
       "<table border=\"1\" class=\"dataframe\">\n",
       "  <thead>\n",
       "    <tr style=\"text-align: right;\">\n",
       "      <th></th>\n",
       "      <th>rooms</th>\n",
       "      <th>bedrooms</th>\n",
       "      <th>bathrooms</th>\n",
       "      <th>surface_total</th>\n",
       "      <th>surface_covered</th>\n",
       "      <th>Abasto</th>\n",
       "      <th>AgronomÃ­a</th>\n",
       "      <th>Almagro</th>\n",
       "      <th>Balvanera</th>\n",
       "      <th>Barracas</th>\n",
       "      <th>...</th>\n",
       "      <th>Villa Ortuzar</th>\n",
       "      <th>Villa PueyrredÃ³n</th>\n",
       "      <th>Villa Real</th>\n",
       "      <th>Villa Riachuelo</th>\n",
       "      <th>Villa Santa Rita</th>\n",
       "      <th>Villa Soldati</th>\n",
       "      <th>Villa Urquiza</th>\n",
       "      <th>Villa del Parque</th>\n",
       "      <th>Departamento</th>\n",
       "      <th>PH</th>\n",
       "    </tr>\n",
       "  </thead>\n",
       "  <tbody>\n",
       "    <tr>\n",
       "      <th>0</th>\n",
       "      <td>2.0</td>\n",
       "      <td>1.0</td>\n",
       "      <td>1.0</td>\n",
       "      <td>123.496416</td>\n",
       "      <td>94.800184</td>\n",
       "      <td>0</td>\n",
       "      <td>0</td>\n",
       "      <td>0</td>\n",
       "      <td>0</td>\n",
       "      <td>0</td>\n",
       "      <td>...</td>\n",
       "      <td>0</td>\n",
       "      <td>0</td>\n",
       "      <td>0</td>\n",
       "      <td>0</td>\n",
       "      <td>0</td>\n",
       "      <td>0</td>\n",
       "      <td>0</td>\n",
       "      <td>1</td>\n",
       "      <td>1</td>\n",
       "      <td>0</td>\n",
       "    </tr>\n",
       "    <tr>\n",
       "      <th>1</th>\n",
       "      <td>3.0</td>\n",
       "      <td>2.0</td>\n",
       "      <td>2.0</td>\n",
       "      <td>123.496416</td>\n",
       "      <td>94.800184</td>\n",
       "      <td>0</td>\n",
       "      <td>0</td>\n",
       "      <td>0</td>\n",
       "      <td>0</td>\n",
       "      <td>0</td>\n",
       "      <td>...</td>\n",
       "      <td>0</td>\n",
       "      <td>0</td>\n",
       "      <td>0</td>\n",
       "      <td>0</td>\n",
       "      <td>0</td>\n",
       "      <td>0</td>\n",
       "      <td>0</td>\n",
       "      <td>0</td>\n",
       "      <td>1</td>\n",
       "      <td>0</td>\n",
       "    </tr>\n",
       "    <tr>\n",
       "      <th>3</th>\n",
       "      <td>4.0</td>\n",
       "      <td>4.0</td>\n",
       "      <td>1.0</td>\n",
       "      <td>118.000000</td>\n",
       "      <td>96.000000</td>\n",
       "      <td>0</td>\n",
       "      <td>0</td>\n",
       "      <td>0</td>\n",
       "      <td>0</td>\n",
       "      <td>0</td>\n",
       "      <td>...</td>\n",
       "      <td>0</td>\n",
       "      <td>0</td>\n",
       "      <td>0</td>\n",
       "      <td>0</td>\n",
       "      <td>0</td>\n",
       "      <td>0</td>\n",
       "      <td>1</td>\n",
       "      <td>0</td>\n",
       "      <td>1</td>\n",
       "      <td>0</td>\n",
       "    </tr>\n",
       "    <tr>\n",
       "      <th>4</th>\n",
       "      <td>2.0</td>\n",
       "      <td>11.0</td>\n",
       "      <td>1.0</td>\n",
       "      <td>61.000000</td>\n",
       "      <td>52.000000</td>\n",
       "      <td>0</td>\n",
       "      <td>0</td>\n",
       "      <td>0</td>\n",
       "      <td>0</td>\n",
       "      <td>0</td>\n",
       "      <td>...</td>\n",
       "      <td>0</td>\n",
       "      <td>0</td>\n",
       "      <td>0</td>\n",
       "      <td>0</td>\n",
       "      <td>0</td>\n",
       "      <td>0</td>\n",
       "      <td>0</td>\n",
       "      <td>0</td>\n",
       "      <td>1</td>\n",
       "      <td>0</td>\n",
       "    </tr>\n",
       "    <tr>\n",
       "      <th>5</th>\n",
       "      <td>3.0</td>\n",
       "      <td>2.0</td>\n",
       "      <td>1.0</td>\n",
       "      <td>66.000000</td>\n",
       "      <td>58.000000</td>\n",
       "      <td>0</td>\n",
       "      <td>0</td>\n",
       "      <td>0</td>\n",
       "      <td>0</td>\n",
       "      <td>0</td>\n",
       "      <td>...</td>\n",
       "      <td>0</td>\n",
       "      <td>0</td>\n",
       "      <td>0</td>\n",
       "      <td>0</td>\n",
       "      <td>0</td>\n",
       "      <td>0</td>\n",
       "      <td>0</td>\n",
       "      <td>1</td>\n",
       "      <td>1</td>\n",
       "      <td>0</td>\n",
       "    </tr>\n",
       "  </tbody>\n",
       "</table>\n",
       "<p>5 rows × 63 columns</p>\n",
       "</div>"
      ],
      "text/plain": [
       "   rooms  bedrooms  bathrooms  surface_total  surface_covered  Abasto  \\\n",
       "0    2.0       1.0        1.0     123.496416        94.800184       0   \n",
       "1    3.0       2.0        2.0     123.496416        94.800184       0   \n",
       "3    4.0       4.0        1.0     118.000000        96.000000       0   \n",
       "4    2.0      11.0        1.0      61.000000        52.000000       0   \n",
       "5    3.0       2.0        1.0      66.000000        58.000000       0   \n",
       "\n",
       "   AgronomÃ­a  Almagro  Balvanera  Barracas  ...  Villa Ortuzar  \\\n",
       "0           0        0          0         0  ...              0   \n",
       "1           0        0          0         0  ...              0   \n",
       "3           0        0          0         0  ...              0   \n",
       "4           0        0          0         0  ...              0   \n",
       "5           0        0          0         0  ...              0   \n",
       "\n",
       "   Villa PueyrredÃ³n  Villa Real  Villa Riachuelo  Villa Santa Rita  \\\n",
       "0                  0           0                0                 0   \n",
       "1                  0           0                0                 0   \n",
       "3                  0           0                0                 0   \n",
       "4                  0           0                0                 0   \n",
       "5                  0           0                0                 0   \n",
       "\n",
       "   Villa Soldati  Villa Urquiza  Villa del Parque  Departamento  PH  \n",
       "0              0              0                 1             1   0  \n",
       "1              0              0                 0             1   0  \n",
       "3              0              1                 0             1   0  \n",
       "4              0              0                 0             1   0  \n",
       "5              0              0                 1             1   0  \n",
       "\n",
       "[5 rows x 63 columns]"
      ]
     },
     "execution_count": 34,
     "metadata": {},
     "output_type": "execute_result"
    }
   ],
   "source": [
    "x.head()"
   ]
  },
  {
   "cell_type": "code",
   "execution_count": 35,
   "metadata": {
    "colab": {
     "base_uri": "https://localhost:8080/"
    },
    "id": "1ekbQl8lY1Zh",
    "outputId": "06ab53b3-1afc-4314-c6a3-03574f914e83"
   },
   "outputs": [
    {
     "data": {
      "text/plain": [
       "(15970, 5)"
      ]
     },
     "execution_count": 35,
     "metadata": {},
     "output_type": "execute_result"
    }
   ],
   "source": [
    "xtrain_nd = xtrain[:, 0:5] #sin dummies\n",
    "xtrain_nd.shape"
   ]
  },
  {
   "cell_type": "code",
   "execution_count": 36,
   "metadata": {
    "colab": {
     "base_uri": "https://localhost:8080/"
    },
    "id": "hG24EZxbY_gg",
    "outputId": "d00016cc-4c18-4e66-822e-fe58a191a9e4"
   },
   "outputs": [
    {
     "data": {
      "text/plain": [
       "(15970, 58)"
      ]
     },
     "execution_count": 36,
     "metadata": {},
     "output_type": "execute_result"
    }
   ],
   "source": [
    "xtrain_d = xtrain[:, 5:] #con dummies\n",
    "xtrain_d.shape"
   ]
  },
  {
   "cell_type": "code",
   "execution_count": 37,
   "metadata": {
    "colab": {
     "base_uri": "https://localhost:8080/"
    },
    "id": "_Ma4G1SNZAHw",
    "outputId": "297c9c59-ec03-4b8e-ada8-6969a81a85c8"
   },
   "outputs": [
    {
     "data": {
      "text/plain": [
       "(6845, 5)"
      ]
     },
     "execution_count": 37,
     "metadata": {},
     "output_type": "execute_result"
    }
   ],
   "source": [
    "xtest_nd = xtest[:, 0:5] #sin dummies\n",
    "xtest_nd.shape"
   ]
  },
  {
   "cell_type": "code",
   "execution_count": 38,
   "metadata": {
    "colab": {
     "base_uri": "https://localhost:8080/"
    },
    "id": "NrLgao_1ZAxo",
    "outputId": "97fa6d1f-4c9c-4589-8180-ac57269845ad"
   },
   "outputs": [
    {
     "data": {
      "text/plain": [
       "(6845, 58)"
      ]
     },
     "execution_count": 38,
     "metadata": {},
     "output_type": "execute_result"
    }
   ],
   "source": [
    "xtest_d = xtest[:, 5:] #con dummies\n",
    "xtest_d.shape"
   ]
  },
  {
   "cell_type": "markdown",
   "metadata": {
    "id": "nrvoHKQDKZLW"
   },
   "source": [
    "Con el StandardScaler generado en la linea siguiente, realizaremos el tansform para el xtrain y xtest guardandolos en nuevas variables llamadas \"xtrain_scal\" y \"xtest_scal\". Realizaremos la estandarización de las variables no dummies."
   ]
  },
  {
   "cell_type": "code",
   "execution_count": 39,
   "metadata": {
    "id": "mqqk1Jj9ZmdX"
   },
   "outputs": [],
   "source": [
    "scaler = preprocessing.StandardScaler().fit(xtrain_nd)"
   ]
  },
  {
   "cell_type": "code",
   "execution_count": 40,
   "metadata": {
    "id": "aN5SH_aJZqPx"
   },
   "outputs": [],
   "source": [
    "xtrain_scal = scaler.transform(xtrain_nd)"
   ]
  },
  {
   "cell_type": "code",
   "execution_count": 41,
   "metadata": {
    "id": "dIN8dDkFZuBn"
   },
   "outputs": [],
   "source": [
    "xtest_scal = scaler.transform(xtest_nd)"
   ]
  },
  {
   "cell_type": "code",
   "execution_count": 42,
   "metadata": {
    "id": "V7QRe7mQZuOU"
   },
   "outputs": [],
   "source": [
    "xtrain_scal = np.concatenate([xtrain_scal, xtrain_d],axis=1)\n",
    "xtest_scal = np.concatenate([xtest_scal, xtest_d],axis=1)"
   ]
  },
  {
   "cell_type": "markdown",
   "metadata": {},
   "source": [
    "**KNN**"
   ]
  },
  {
   "cell_type": "code",
   "execution_count": 43,
   "metadata": {},
   "outputs": [],
   "source": [
    "knn = KNeighborsRegressor(weights = \"distance\")\n",
    "parameters_k = np.arange(8,15,2)\n",
    "parameters_knn = [{'n_neighbors': parameters_k}]\n",
    "regressor_knn = GridSearchCV(knn, parameters_knn, refit = True, cv=5, verbose=True)"
   ]
  },
  {
   "cell_type": "code",
   "execution_count": 44,
   "metadata": {},
   "outputs": [
    {
     "name": "stdout",
     "output_type": "stream",
     "text": [
      "Fitting 5 folds for each of 4 candidates, totalling 20 fits\n"
     ]
    },
    {
     "data": {
      "text/plain": [
       "GridSearchCV(cv=5, estimator=KNeighborsRegressor(weights='distance'),\n",
       "             param_grid=[{'n_neighbors': array([ 8, 10, 12, 14])}],\n",
       "             verbose=True)"
      ]
     },
     "execution_count": 44,
     "metadata": {},
     "output_type": "execute_result"
    }
   ],
   "source": [
    "regressor_knn.fit(xtrain_scal, ytrain)"
   ]
  },
  {
   "cell_type": "code",
   "execution_count": 45,
   "metadata": {},
   "outputs": [
    {
     "data": {
      "text/plain": [
       "{'n_neighbors': 14}"
      ]
     },
     "execution_count": 45,
     "metadata": {},
     "output_type": "execute_result"
    }
   ],
   "source": [
    "regressor_knn.best_params_"
   ]
  },
  {
   "cell_type": "code",
   "execution_count": 46,
   "metadata": {},
   "outputs": [],
   "source": [
    "ypred= regressor_knn.predict(xtest_scal)"
   ]
  },
  {
   "cell_type": "code",
   "execution_count": 47,
   "metadata": {},
   "outputs": [
    {
     "data": {
      "text/plain": [
       "37880.65375120144"
      ]
     },
     "execution_count": 47,
     "metadata": {},
     "output_type": "execute_result"
    }
   ],
   "source": [
    "mse_knn = np.sqrt(mean_squared_error(ytest, ypred))\n",
    "mse_knn"
   ]
  },
  {
   "cell_type": "markdown",
   "metadata": {},
   "source": [
    "**Support Vector Regressor**"
   ]
  },
  {
   "cell_type": "markdown",
   "metadata": {
    "id": "P68ko6T6La8P"
   },
   "source": [
    "Creamos un Suport Vector Regressor y un GridSearch para realizar la búsqueda de hiperparámetros. Asignamos dos posibles valores para el parámetro \"kernel\" y tres posibles valores para \"C\" y \"gamma\".\n",
    "Hacemos 5 CrossValidations."
   ]
  },
  {
   "cell_type": "code",
   "execution_count": 48,
   "metadata": {
    "id": "2cldD66bZuXE"
   },
   "outputs": [],
   "source": [
    "svreg = SVR()"
   ]
  },
  {
   "cell_type": "code",
   "execution_count": 49,
   "metadata": {
    "id": "8hRR_jQ_ZuZx"
   },
   "outputs": [],
   "source": [
    "param_svreg = {'kernel':('linear', 'rbf'), 'C':[1, 10,100 ], 'gamma':[ 0.1,1,10]}"
   ]
  },
  {
   "cell_type": "code",
   "execution_count": 50,
   "metadata": {
    "id": "RsUQqozvZucu"
   },
   "outputs": [],
   "source": [
    "regressor_svr = GridSearchCV(svreg , param_svreg, cv = 5, n_jobs = -1, verbose = True, refit = True)"
   ]
  },
  {
   "cell_type": "code",
   "execution_count": 51,
   "metadata": {
    "colab": {
     "base_uri": "https://localhost:8080/"
    },
    "id": "Rwqd0rGlZufN",
    "outputId": "e8a8751b-f457-431c-e036-ec2f99f587fc"
   },
   "outputs": [
    {
     "name": "stdout",
     "output_type": "stream",
     "text": [
      "Fitting 5 folds for each of 18 candidates, totalling 90 fits\n"
     ]
    },
    {
     "data": {
      "text/plain": [
       "GridSearchCV(cv=5, estimator=SVR(), n_jobs=-1,\n",
       "             param_grid={'C': [1, 10, 100], 'gamma': [0.1, 1, 10],\n",
       "                         'kernel': ('linear', 'rbf')},\n",
       "             verbose=True)"
      ]
     },
     "execution_count": 51,
     "metadata": {},
     "output_type": "execute_result"
    }
   ],
   "source": [
    "regressor_svr.fit(xtrain_scal, ytrain.ravel())"
   ]
  },
  {
   "cell_type": "markdown",
   "metadata": {
    "id": "IeiU7FtzMTS7"
   },
   "source": [
    "Mostramos cuales son los mejores hiperparámetros y con estos obtenemos el mean_squared_error en el test set."
   ]
  },
  {
   "cell_type": "code",
   "execution_count": 52,
   "metadata": {
    "colab": {
     "base_uri": "https://localhost:8080/"
    },
    "id": "PwoONDaeZuhW",
    "outputId": "2096f04c-149b-4fce-d4f7-4371373b5d40"
   },
   "outputs": [
    {
     "data": {
      "text/plain": [
       "{'C': 100, 'gamma': 0.1, 'kernel': 'linear'}"
      ]
     },
     "execution_count": 52,
     "metadata": {},
     "output_type": "execute_result"
    }
   ],
   "source": [
    "regressor_svr.best_params_"
   ]
  },
  {
   "cell_type": "code",
   "execution_count": 53,
   "metadata": {
    "colab": {
     "base_uri": "https://localhost:8080/"
    },
    "id": "GFA2sxMKZuj0",
    "outputId": "64c02fd9-6137-4afd-f892-d0c82451b7b7"
   },
   "outputs": [
    {
     "data": {
      "text/plain": [
       "0.5075353717196894"
      ]
     },
     "execution_count": 53,
     "metadata": {},
     "output_type": "execute_result"
    }
   ],
   "source": [
    "regressor_svr.best_score_"
   ]
  },
  {
   "cell_type": "code",
   "execution_count": 54,
   "metadata": {
    "colab": {
     "base_uri": "https://localhost:8080/"
    },
    "id": "FvPAFnZsZumU",
    "outputId": "52c3005a-6f9e-4a97-d378-40acf7265e8c"
   },
   "outputs": [
    {
     "data": {
      "text/plain": [
       "array([187433.16569563, 213344.16136056, 139673.35365799, ...,\n",
       "        80463.11869267, 183161.52423989, 137169.41208949])"
      ]
     },
     "execution_count": 54,
     "metadata": {},
     "output_type": "execute_result"
    }
   ],
   "source": [
    "ypred2 = regressor_svr.predict(xtest_scal)\n",
    "ypred2"
   ]
  },
  {
   "cell_type": "code",
   "execution_count": 55,
   "metadata": {
    "colab": {
     "base_uri": "https://localhost:8080/"
    },
    "id": "xpHMG3HTZuoi",
    "outputId": "af4d4234-c13b-4d98-c590-ba9d3be70810"
   },
   "outputs": [
    {
     "data": {
      "text/plain": [
       "47183.48928983047"
      ]
     },
     "execution_count": 55,
     "metadata": {},
     "output_type": "execute_result"
    }
   ],
   "source": [
    "mse_svr = np.sqrt(mean_squared_error(ytest, ypred2))\n",
    "mse_svr"
   ]
  },
  {
   "cell_type": "markdown",
   "metadata": {},
   "source": [
    "Visualización"
   ]
  },
  {
   "cell_type": "code",
   "execution_count": 56,
   "metadata": {},
   "outputs": [
    {
     "data": {
      "image/png": "[encoded data removed]",
      "text/plain": [
       "<Figure size 720x360 with 2 Axes>"
      ]
     },
     "metadata": {
      "needs_background": "light"
     },
     "output_type": "display_data"
    }
   ],
   "source": [
    "fig, ax = plt.subplots(1,2, figsize = (10,5))\n",
    "ax[0].scatter(x=ytest,y=ypred)\n",
    "ax[0].plot(np.arange(np.max(ytest)),np.arange(np.max(ytest)), color = 'r', alpha = 0.5)\n",
    "ax[0].set_title('Knn Regressor MSE = '+str(np.round(mse_knn,3)))\n",
    "ax[0].set_xlabel('precios reales')\n",
    "ax[0].set_ylabel('predicciones')\n",
    "ax[1].scatter(x=ytest,y=ypred2)\n",
    "ax[1].plot(np.arange(np.max(ytest)),np.arange(np.max(ytest)), color = 'r', alpha = 0.5)\n",
    "ax[1].set_title('SVR MSE = '+str(np.round(mse_svr,3)))\n",
    "ax[1].set_xlabel('precios reales')\n",
    "plt.show()"
   ]
  },
  {
   "cell_type": "markdown",
   "metadata": {},
   "source": [
    "**PCA**"
   ]
  },
  {
   "cell_type": "markdown",
   "metadata": {
    "id": "jiSz4x4hCCVt"
   },
   "source": [
    "Ahora reduciremos la dimensionalidad con PCA, y haremos denuevo la predicción del precio pero con las dos features mas importantes del dataset."
   ]
  },
  {
   "cell_type": "code",
   "execution_count": 57,
   "metadata": {
    "id": "XoerrEfeZuqt"
   },
   "outputs": [],
   "source": [
    "from sklearn.decomposition import PCA\n",
    "# cantidad de componentes a extraer\n",
    "n_comps = 2\n",
    "#definimos PCA\n",
    "pca = PCA(n_components= n_comps)\n",
    "# fit_transform del PCA a nuestros datos\n",
    "pca.fit(xtrain_scal)\n",
    "xpcatrain = pca.transform(xtrain_scal)\n",
    "xpcatest = pca.transform(xtest_scal)\n",
    "# obtenemos los auto-valores\n",
    "eigenvalues = pca.explained_variance_ratio_"
   ]
  },
  {
   "cell_type": "code",
   "execution_count": 58,
   "metadata": {
    "id": "7yOM3HmfZusx"
   },
   "outputs": [
    {
     "data": {
      "text/plain": [
       "array([2.05096596, 1.92785336])"
      ]
     },
     "execution_count": 58,
     "metadata": {},
     "output_type": "execute_result"
    }
   ],
   "source": [
    "pca.explained_variance_"
   ]
  },
  {
   "cell_type": "code",
   "execution_count": 59,
   "metadata": {
    "id": "3rbwnX3EZuvD"
   },
   "outputs": [
    {
     "data": {
      "text/plain": [
       "array([0.33370439, 0.31367324])"
      ]
     },
     "execution_count": 59,
     "metadata": {},
     "output_type": "execute_result"
    }
   ],
   "source": [
    "pca.explained_variance_ratio_"
   ]
  },
  {
   "cell_type": "code",
   "execution_count": 60,
   "metadata": {
    "id": "durLYHF7ZuxK"
   },
   "outputs": [
    {
     "data": {
      "text/plain": [
       "(15970, 2)"
      ]
     },
     "execution_count": 60,
     "metadata": {},
     "output_type": "execute_result"
    }
   ],
   "source": [
    "xpcatrain.shape"
   ]
  },
  {
   "cell_type": "markdown",
   "metadata": {
    "id": "IzhwtJ0NCUy6"
   },
   "source": [
    "**KNN con PCA**"
   ]
  },
  {
   "cell_type": "code",
   "execution_count": 61,
   "metadata": {
    "id": "AXYrSWWVCUul"
   },
   "outputs": [
    {
     "name": "stdout",
     "output_type": "stream",
     "text": [
      "Fitting 5 folds for each of 4 candidates, totalling 20 fits\n"
     ]
    },
    {
     "data": {
      "text/plain": [
       "GridSearchCV(cv=5, estimator=KNeighborsRegressor(weights='distance'),\n",
       "             param_grid=[{'n_neighbors': array([ 8, 10, 12, 14])}],\n",
       "             verbose=True)"
      ]
     },
     "execution_count": 61,
     "metadata": {},
     "output_type": "execute_result"
    }
   ],
   "source": [
    "regressor_knn.fit(xpcatrain, ytrain)"
   ]
  },
  {
   "cell_type": "code",
   "execution_count": 62,
   "metadata": {
    "id": "Uj5GUCcRCUql"
   },
   "outputs": [
    {
     "data": {
      "text/plain": [
       "{'n_neighbors': 14}"
      ]
     },
     "execution_count": 62,
     "metadata": {},
     "output_type": "execute_result"
    }
   ],
   "source": [
    "regressor_knn.best_params_"
   ]
  },
  {
   "cell_type": "code",
   "execution_count": 63,
   "metadata": {
    "id": "Y8ohRmRKCUlh"
   },
   "outputs": [],
   "source": [
    "ypred3 = regressor_knn.predict(xpcatest)"
   ]
  },
  {
   "cell_type": "code",
   "execution_count": 64,
   "metadata": {
    "id": "u3m5bH4mCUZQ"
   },
   "outputs": [
    {
     "data": {
      "text/plain": [
       "39995.791493036646"
      ]
     },
     "execution_count": 64,
     "metadata": {},
     "output_type": "execute_result"
    }
   ],
   "source": [
    "mse_knn2 = np.sqrt(mean_squared_error(ytest, ypred3))\n",
    "mse_knn2\n",
    "#Aumentó el error respecto del modelo sin PCA"
   ]
  },
  {
   "cell_type": "markdown",
   "metadata": {},
   "source": [
    "**SVR con PCA**"
   ]
  },
  {
   "cell_type": "code",
   "execution_count": 65,
   "metadata": {},
   "outputs": [
    {
     "name": "stdout",
     "output_type": "stream",
     "text": [
      "Fitting 4 folds for each of 18 candidates, totalling 72 fits\n"
     ]
    },
    {
     "data": {
      "text/plain": [
       "GridSearchCV(cv=4, estimator=SVR(),\n",
       "             param_grid={'C': [1, 10, 100], 'gamma': [0.1, 1, 10],\n",
       "                         'kernel': ('linear', 'rbf')},\n",
       "             verbose=True)"
      ]
     },
     "execution_count": 65,
     "metadata": {},
     "output_type": "execute_result"
    }
   ],
   "source": [
    "svreg = SVR()\n",
    "param_svreg = {'kernel':('linear', 'rbf'), 'C':[1, 10, 100], 'gamma':[ 0.1,1,10]}\n",
    "regressor_svr = GridSearchCV(svreg, param_svreg, cv=4, verbose=True)\n",
    "regressor_svr.fit(xpcatrain, ytrain.ravel())"
   ]
  },
  {
   "cell_type": "code",
   "execution_count": 66,
   "metadata": {},
   "outputs": [
    {
     "data": {
      "text/plain": [
       "{'C': 100, 'gamma': 0.1, 'kernel': 'rbf'}"
      ]
     },
     "execution_count": 66,
     "metadata": {},
     "output_type": "execute_result"
    }
   ],
   "source": [
    "regressor_svr.best_params_"
   ]
  },
  {
   "cell_type": "code",
   "execution_count": 67,
   "metadata": {},
   "outputs": [
    {
     "data": {
      "text/plain": [
       "0.4274954423171774"
      ]
     },
     "execution_count": 67,
     "metadata": {},
     "output_type": "execute_result"
    }
   ],
   "source": [
    "regressor_svr.best_score_"
   ]
  },
  {
   "cell_type": "code",
   "execution_count": 68,
   "metadata": {},
   "outputs": [
    {
     "data": {
      "text/plain": [
       "array([164455.0544752 , 185052.64010928, 127223.87769438, ...,\n",
       "        97495.5885513 , 195813.7126383 , 127850.02199173])"
      ]
     },
     "execution_count": 68,
     "metadata": {},
     "output_type": "execute_result"
    }
   ],
   "source": [
    "ypred4 = regressor_svr.predict(xpcatest)\n",
    "ypred4"
   ]
  },
  {
   "cell_type": "code",
   "execution_count": 69,
   "metadata": {},
   "outputs": [
    {
     "data": {
      "text/plain": [
       "50962.63977988644"
      ]
     },
     "execution_count": 69,
     "metadata": {},
     "output_type": "execute_result"
    }
   ],
   "source": [
    "mse_svr2 = np.sqrt(mean_squared_error(ytest, ypred4))\n",
    "mse_svr2"
   ]
  },
  {
   "cell_type": "markdown",
   "metadata": {},
   "source": [
    "**Visualización**"
   ]
  },
  {
   "cell_type": "code",
   "execution_count": 70,
   "metadata": {},
   "outputs": [
    {
     "data": {
      "image/png": "[encoded data removed]",
      "text/plain": [
       "<Figure size 720x360 with 2 Axes>"
      ]
     },
     "metadata": {
      "needs_background": "light"
     },
     "output_type": "display_data"
    }
   ],
   "source": [
    "fig, ax = plt.subplots(1,2, figsize = (10,5))\n",
    "ax[0].scatter(x=ytest,y=ypred3)\n",
    "ax[0].plot(np.arange(np.max(ytest)),np.arange(np.max(ytest)), color = 'r', alpha = 0.5)\n",
    "ax[0].set_title('Knn Regressor MSE con PCA = '+str(np.round(mse_knn2,3)))\n",
    "ax[0].set_xlabel('precios reales')\n",
    "ax[0].set_ylabel('predicciones')\n",
    "ax[1].scatter(x=ytest,y=ypred4)\n",
    "ax[1].plot(np.arange(np.max(ytest)),np.arange(np.max(ytest)), color = 'r', alpha = 0.5)\n",
    "ax[1].set_title('SVR MSE con PCA = '+str(np.round(mse_svr2,3)))\n",
    "ax[1].set_xlabel('precios reales')\n",
    "plt.show()"
   ]
  }
 ],
 "metadata": {
  "colab": {
   "provenance": []
  },
  "kernelspec": {
   "display_name": "Python 3 (ipykernel)",
   "language": "python",
   "name": "python3"
  },
  "language_info": {
   "codemirror_mode": {
    "name": "ipython",
    "version": 3
   },
   "file_extension": ".py",
   "mimetype": "text/x-python",
   "name": "python",
   "nbconvert_exporter": "python",
   "pygments_lexer": "ipython3",
   "version": "3.9.12"
  }
 },
 "nbformat": 4,
 "nbformat_minor": 1
}
